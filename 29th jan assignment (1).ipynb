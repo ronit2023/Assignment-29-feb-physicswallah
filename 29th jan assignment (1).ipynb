{
 "cells": [
  {
   "cell_type": "markdown",
   "id": "c580be13-d391-47e6-8611-6f4d6679d129",
   "metadata": {},
   "source": [
    "1. Guido van Rossum"
   ]
  },
  {
   "cell_type": "markdown",
   "id": "59b6cfae-b734-47a5-8a60-db8dc21a93f6",
   "metadata": {},
   "source": [
    "2. Python supports multiple programming paradigms, including structural, object-oriented and functional programming."
   ]
  },
  {
   "cell_type": "markdown",
   "id": "bf1cbf53-cca5-48d3-b50d-1e310af82bb3",
   "metadata": {},
   "source": [
    "3. Yes, Python is a case sensitive language,one must avoid same name with different cases while naming identifiers."
   ]
  },
  {
   "cell_type": "markdown",
   "id": "2d414ae2-6d7c-4151-8797-28f4fe9456b7",
   "metadata": {},
   "source": [
    "4.  extensions for python are -> .py ; .py,. ; pyi,."
   ]
  },
  {
   "cell_type": "markdown",
   "id": "f4602955-695e-4336-b42a-93edcdf3ec20",
   "metadata": {},
   "source": [
    "5.  Python is an interpreted language, which means the source code of a python program is converted into bytecode that is then executed by the python virtual machine."
   ]
  },
  {
   "cell_type": "markdown",
   "id": "685177d8-4be5-4618-8c74-4910c5de2a23",
   "metadata": {},
   "source": [
    "6. The few blocks of code are: a module, a function body, and a class definition, a script file is a code block"
   ]
  },
  {
   "cell_type": "markdown",
   "id": "0cc60a54-64ac-4bec-806f-577c0f89d9e1",
   "metadata": {},
   "source": [
    "7. #character can be used for single line comments."
   ]
  },
  {
   "cell_type": "markdown",
   "id": "e15705b6-34f8-463d-926c-6e3233516a43",
   "metadata": {},
   "source": [
    "8. The function sys.version can help us to find the version of python that we are currently working on."
   ]
  },
  {
   "cell_type": "markdown",
   "id": "55a7df8f-6bbd-4520-b430-aef0a82ecff6",
   "metadata": {},
   "source": [
    "9. Python supports the creation of anonymous functions at runtime, using a construct called \"lambda\"."
   ]
  },
  {
   "cell_type": "markdown",
   "id": "9de11e7b-85cd-4493-ac6d-5a3053ad53af",
   "metadata": {},
   "source": [
    "10. pip -> pip Install Packages"
   ]
  },
  {
   "cell_type": "markdown",
   "id": "0cdb35de-c536-4696-a4f5-58d6194dda92",
   "metadata": {},
   "source": [
    "11. int( )     - returns an integer no.\n",
    "\n",
    "    bool( )    - returns the boolean value of the specified object\n",
    "    \n",
    "    complex( ) - returns a complex no.\n",
    "    \n",
    "    float( )   - returns a floating point no.\n",
    "    \n",
    "    format( )  - formats a specified value\n",
    "     \n",
    "    len( )     - returns the length of the object\n",
    "    \n",
    "    list( )    - returns a list\n",
    "    \n",
    "    print( )   - prints to the standard output device"
   ]
  },
  {
   "cell_type": "markdown",
   "id": "4376c147-c266-4208-8d29-c959ecd8e2b7",
   "metadata": {},
   "source": [
    "12. An identifier can have a maximum length of 79 characters."
   ]
  },
  {
   "cell_type": "markdown",
   "id": "5cfb8391-fc90-406c-8139-d2ae587155ec",
   "metadata": {},
   "source": [
    "13. benefits of python are as follows:\n",
    "    \n",
    "    Simple to use and easy to learn, python is simple to understand and use \n",
    "    \n",
    "    Free and open source.\n",
    "    \n",
    "    Increases productivity.\n",
    "    \n",
    "    Interpreted language.\n",
    "    \n",
    "    Extensive library.\n",
    "    \n",
    "    Dynamically typed."
   ]
  },
  {
   "cell_type": "markdown",
   "id": "0493c9ef-dd68-48c1-9efb-b4ce02ba0001",
   "metadata": {},
   "source": [
    "14. Memory management in python involves a private heap containing all python objects and data structures. The management of this private heap is ensured internally by the Python memory mamager."
   ]
  },
  {
   "cell_type": "markdown",
   "id": "6fae1d31-8146-41a7-b096-4f8299b7faf3",
   "metadata": {},
   "source": [
    "15.The complete path of python.exe can be added by:\n",
    "\n",
    "    1. Right-clicking This PC and going to Properties.\n",
    "\n",
    "    2. Clicking on the Advanced system settings in the menu on the left.\n",
    "\n",
    "    3. Clicking on the Environment Variables button o​n the bottom right.\n",
    "\n",
    "    4. In the System variables section, selecting the Path variable and      clicking on Edit. The next screen will show all the directories that are currently a part of the PATH variable.\n",
    "\n",
    "    5. Clicking on New and entering Python’s install directory."
   ]
  },
  {
   "cell_type": "markdown",
   "id": "a6846124-8228-4a1f-9404-201b1f3b1866",
   "metadata": {},
   "source": [
    "16. The Indentation in python is very imprtant, python uses indentation to indicate a block of code."
   ]
  },
  {
   "cell_type": "code",
   "execution_count": null,
   "id": "e062e473-f80c-44dd-b6b0-96d0bd1eae4c",
   "metadata": {},
   "outputs": [],
   "source": []
  }
 ],
 "metadata": {
  "kernelspec": {
   "display_name": "Python 3 (ipykernel)",
   "language": "python",
   "name": "python3"
  },
  "language_info": {
   "codemirror_mode": {
    "name": "ipython",
    "version": 3
   },
   "file_extension": ".py",
   "mimetype": "text/x-python",
   "name": "python",
   "nbconvert_exporter": "python",
   "pygments_lexer": "ipython3",
   "version": "3.10.8"
  }
 },
 "nbformat": 4,
 "nbformat_minor": 5
}
